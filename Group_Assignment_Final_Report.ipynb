{
  "nbformat": 4,
  "nbformat_minor": 0,
  "metadata": {
    "colab": {
      "name": "Group Assignment Final Report.ipynb",
      "provenance": [],
      "collapsed_sections": [],
      "authorship_tag": "ABX9TyP4osI0M0kgFOKRvHuI2ghE",
      "include_colab_link": true
    },
    "kernelspec": {
      "name": "python3",
      "display_name": "Python 3"
    }
  },
  "cells": [
    {
      "cell_type": "markdown",
      "metadata": {
        "id": "view-in-github",
        "colab_type": "text"
      },
      "source": [
        "<a href=\"https://colab.research.google.com/github/matthewg1234/Practice/blob/master/Group_Assignment_Final_Report.ipynb\" target=\"_parent\"><img src=\"https://colab.research.google.com/assets/colab-badge.svg\" alt=\"Open In Colab\"/></a>"
      ]
    },
    {
      "cell_type": "markdown",
      "metadata": {
        "id": "n-iixvv-KBsZ"
      },
      "source": [
        "#**Quarantine Deliveries Final Report**\n",
        "Nate F, Bridget D, Matthew G\n",
        "\n",
        "\n",
        "\n"
      ]
    },
    {
      "cell_type": "markdown",
      "metadata": {
        "id": "qtfQP0LsKgdZ"
      },
      "source": [
        "##**Introduction**\n",
        "We picked this project because we wanted to create a company where we could adapt to the ongoing Covid-19 pandemic, and help people with their shopping orders. This would allow for people to be safe in their own homes if they are high risk for the virus. We started this project by having some inspiration from delivery companies like Uber Eats and DoorDash, and making it applicable to the present pandemic situation. We got to our final ER diagram by identifying the key groups of data that we will need to record, each of their components, and how they would all be connected within the database.\n"
      ]
    },
    {
      "cell_type": "markdown",
      "metadata": {
        "id": "W1dBnBZ-Kxkc"
      },
      "source": [
        "##**Final ER Diagram**\n",
        "![er diagram](https://raw.githubusercontent.com/matthewg1234/Practice/master/Group%20Assignment%202.png)\n"
      ]
    },
    {
      "cell_type": "markdown",
      "metadata": {
        "id": "LviydyLbLJJk"
      },
      "source": [
        "##**Specifics of ER Diagram**\n",
        "For our ER Diagram, we had seven tables to hold all of the information about everything that is needed for our company.  The main table that the rest revolved around is the Trip table.  This table has the primary key of TripID.  The table is then connected to the tables: Payment, Customer, Items, and Driver with their primary keys: TransactionID, CustomerID, ItemID, and LicenseID respectively.  The customer table is connected to the address table due to the address being multivalued and its primary key is StreetAddress. A similar situation happened in the Driver table with Car and it has its own table with PlateID being the primary key.\n"
      ]
    },
    {
      "cell_type": "markdown",
      "metadata": {
        "id": "tOJgBS2YLQ5F"
      },
      "source": [
        "##**2nd Normal Form**\n",
        "Our ER Diagram is valid in 2nd Normal Form. It is in 2nd Normal Form because it is in 1st Normal Form, and we also do not have any partial dependencies. Since we do not have any composite keys where attributes are dependent on the key, we know that there are no partial dependencies within our diagram. Therefore, our ER diagram is valid in 2nd Normal Form.\n"
      ]
    },
    {
      "cell_type": "markdown",
      "metadata": {
        "id": "ScX5R0IaLeBO"
      },
      "source": [
        "## **3rd Normal Form**\n",
        "Yes, our ER diagram would be valid in 3rd Normal Form. Since our ER diagram is already in 2nd Normal Form, it is on the right track of being in 3rd Normal Form. In addition, our diagram does not contain any transitive dependencies. Because we separated the ‘Car’ and ‘Driver’ entities into 2 tables with unique primary keys, there are no transitive dependencies, therefore making our ER diagram valid  in 3rd Normal Form. \n"
      ]
    },
    {
      "cell_type": "markdown",
      "metadata": {
        "id": "jcyDGOgyLlOh"
      },
      "source": [
        "## **Boyce-Codd Normal Form**\n",
        "Boyce-Codd is a special type of 3rd Normal Form that is more strict and requires it to already be in 3rd Normal Form.  The Diagram is in Boyce-Codd form if every determinant in the table is a candidate key, it has the potential to replace the primary key.  For all the tables in our ER Diagram, the determinants are also candidate keys which would make our ER Diagram fit in this Boyce-Codd form.\n"
      ]
    },
    {
      "cell_type": "markdown",
      "metadata": {
        "id": "E_qo7S5HLqf4"
      },
      "source": [
        "##**How we created our database, tables, and inserted data**\n",
        "We created our database after we loaded in sql and used the sqlite:///petshop.d command to make the database.  The database was called petshop and the “.d” made it a database using the sqlite function.  We made the tables by first doing a check to see if the tables already exist and to delete them if they do.  Then, we made the table using the create table statement and put in the values that were needed to match the ER Diagram.  For inserting data into the table, we used “insert into” and then the table.  In the same statement, we put the values that corresponded with how we made the tables so the values and types matched.\n"
      ]
    },
    {
      "cell_type": "markdown",
      "metadata": {
        "id": "NkeYdS3uMZFt"
      },
      "source": [
        "## **Code to create and populate our database**"
      ]
    },
    {
      "cell_type": "code",
      "metadata": {
        "colab": {
          "base_uri": "https://localhost:8080/",
          "height": 35
        },
        "id": "iwV7uVKMMqLS",
        "outputId": "9efd51dd-c3d2-4ead-8f68-652c6262e1c3"
      },
      "source": [
        "%load_ext sql \n",
        "%sql sqlite:///petshop.d"
      ],
      "execution_count": 2,
      "outputs": [
        {
          "output_type": "execute_result",
          "data": {
            "application/vnd.google.colaboratory.intrinsic+json": {
              "type": "string"
            },
            "text/plain": [
              "'Connected: @petshop.d'"
            ]
          },
          "metadata": {
            "tags": []
          },
          "execution_count": 2
        }
      ]
    },
    {
      "cell_type": "code",
      "metadata": {
        "colab": {
          "base_uri": "https://localhost:8080/"
        },
        "id": "WrD9tHqFMeq-",
        "outputId": "3a08008f-1d97-4310-f33c-016c3378e96b"
      },
      "source": [
        "%%sql\n",
        "DROP TABLE IF EXISTS Address; \n",
        "create table Address (StreetAddress text PRIMARY KEY, City text, State text, Zipcode integer); \n",
        "DROP table IF EXISTS Customer; \n",
        "create table Customer (CustomerID text PRIMARY KEY, FirstName text, LastName text, Address text); \n",
        "DROP table IF EXISTS Items; \n",
        "create table Items (ItemID text PRIMARY KEY, Cost real, StoreName text, Quantity integer); \n",
        "DROP table IF EXISTS Trip; \n",
        "create table Trip (TripID text PRIMARY KEY, Distance integer, Time integer, Gas integer, TransactionID text, CustomerID text, LicenseID text, ItemID text); \n",
        "DROP table IF EXISTS Payment; \n",
        "create table Payment (TransactionID text PRIMARY KEY, PaymentType text, CardNumber integer, Tips integer); \n",
        "DROP table IF EXISTS Driver; \n",
        "create table Driver (LicenseID text PRIMARY KEY, FirstName text, LastName text, Car text, PhoneNumber text); \n",
        "DROP table IF EXISTS Car;\n",
        "create table Car (PlateID text PRIMARY KEY, Model text, Color text, Brand text);\n",
        "\n"
      ],
      "execution_count": 6,
      "outputs": [
        {
          "output_type": "stream",
          "text": [
            " * sqlite:///petshop.d\n",
            "Done.\n",
            "Done.\n",
            "Done.\n",
            "Done.\n",
            "Done.\n",
            "Done.\n",
            "Done.\n",
            "Done.\n",
            "Done.\n",
            "Done.\n",
            "Done.\n",
            "Done.\n",
            "Done.\n",
            "Done.\n"
          ],
          "name": "stdout"
        },
        {
          "output_type": "execute_result",
          "data": {
            "text/plain": [
              "[]"
            ]
          },
          "metadata": {
            "tags": []
          },
          "execution_count": 6
        }
      ]
    },
    {
      "cell_type": "code",
      "metadata": {
        "colab": {
          "base_uri": "https://localhost:8080/"
        },
        "id": "ikCTKMZHM3T8",
        "outputId": "e517f31c-31b8-4a11-c778-cefa7a961540"
      },
      "source": [
        "%%sql\n",
        "insert into Trip values(\"0001\", 20, 10, 2, \"3842\", \"1234\", \"1234678\", \"3849\"); \n",
        "insert into Trip values(\"0002\", 10, 5, 1, \"2849\", \"5462\", \"23456789\", \"1569\"); \n",
        "insert into Trip values(\"0003\", 25, 13, 4, \"8953\", \"2562\", \"29304718\", \"2483\"); \n",
        "insert into Trip values(\"0004\", 15, 8, 3, \"2942\", \"8654\", \"46274829\", \"7531\"); \n",
        "insert into Trip values(\"0005\", 15, 7, 3, \"9236\", \"6832\", \"93526374\", \"2584\"); \n",
        "insert into Payment values(\"3842\", \"cash\", 0, 5); \n",
        "insert into Payment values(\"2849\", \"card\", 9378837283212834, 5); \n",
        "insert into Payment values(\"8953\", \"card\", 2948126383828348, 5); \n",
        "insert into Payment values(\"2942\", \"cash\", 0, 5); \n",
        "insert into Payment values(\"9236\", \"card\", 2389423787823873, 5); \n",
        "insert into Items values(\"3849\", 3.89, \"Walmart\", 5); \n",
        "insert into Items values(\"1569\", 32.49, \"Target\", 1); \n",
        "insert into Items values(\"2493\", 83.43, \"Sam's Club\", 8); \n",
        "insert into Items values(\"7531\", 5.86, \"Kmart\", 1); \n",
        "insert into Items values(\"2584\", 54.23, \"Costco\", 2);\n",
        "insert into Address values('443 NE. Thorne Dr.', 'Grand Island', 'PA', 68801); \n",
        "insert into Address values('9189 Sugar Street', 'Irwin', 'PA', 15642); \n",
        "insert into Address values('53 Lilac St.', 'Whitestone', 'PA', 11357); \n",
        "insert into Address values('49 Peninsula Court','Corpus Christi', 'PA', 78418); \n",
        "insert into Address values('980 South Military St.', 'Bozeman', 'PA', 59715); \n",
        "insert into Customer values('1234', 'Matthew', 'Genova', '443 NE. Thorne Dr. Grand Island PA 68801'); \n",
        "insert into Customer values('5462', 'Bridget', 'Doherty', '9189 Sugar Street Irwin PA 15642'); \n",
        "insert into Customer values('2562', 'Nate', 'Fedornock','53 Lilac St. Whitestone PA 11357'); \n",
        "insert into Customer values ('8654', 'Bill', 'Jobs', '49 Peninsula Court Corpus Christi PA 78418'); \n",
        "insert into Customer values ('6832', 'Steve', 'Gates', '980 South Military St. Bozeman PA 59715');\n",
        "insert into Driver values('1234678', 'John', 'Doe', '8080808 Mustang green Ford','123-456-7890'); \n",
        "insert into Driver values('23456789', 'Hannah', 'Kern', '1234567 Town & Country silver Chrysler','234-567-8901'); \n",
        "insert into Driver values('29304718', 'Jane', 'Smith', '9999999 Corolla white Toyota', '215-394-0394'); \n",
        "insert into Driver values('46274829', 'Brittany', 'Deitch', '3627364 Wrangler white Jeep','267-392-4056'); \n",
        "insert into Driver values('93526374', 'Noah', 'Morris', '6626374 Pilot navy Honda','610-382-9808'); \n",
        "insert into Car values('8080808', 'Mustang', 'green', 'Ford'); \n",
        "insert into Car values('1234567', 'Town & Country', 'silver', 'Chrysler'); \n",
        "insert into Car values('9999999', 'Corolla', 'white', 'Toyota'); \n",
        "insert into Car values('3627364', 'Wrangler', 'white', 'Jeep'); \n",
        "insert into Car values('6626374', 'Pilot', 'navy', 'Honda');"
      ],
      "execution_count": 7,
      "outputs": [
        {
          "output_type": "stream",
          "text": [
            " * sqlite:///petshop.d\n",
            "1 rows affected.\n",
            "1 rows affected.\n",
            "1 rows affected.\n",
            "1 rows affected.\n",
            "1 rows affected.\n",
            "1 rows affected.\n",
            "1 rows affected.\n",
            "1 rows affected.\n",
            "1 rows affected.\n",
            "1 rows affected.\n",
            "1 rows affected.\n",
            "1 rows affected.\n",
            "1 rows affected.\n",
            "1 rows affected.\n",
            "1 rows affected.\n",
            "1 rows affected.\n",
            "1 rows affected.\n",
            "1 rows affected.\n",
            "1 rows affected.\n",
            "1 rows affected.\n",
            "1 rows affected.\n",
            "1 rows affected.\n",
            "1 rows affected.\n",
            "1 rows affected.\n",
            "1 rows affected.\n",
            "1 rows affected.\n",
            "1 rows affected.\n",
            "1 rows affected.\n",
            "1 rows affected.\n",
            "1 rows affected.\n",
            "1 rows affected.\n",
            "1 rows affected.\n",
            "1 rows affected.\n",
            "1 rows affected.\n",
            "1 rows affected.\n"
          ],
          "name": "stdout"
        },
        {
          "output_type": "execute_result",
          "data": {
            "text/plain": [
              "[]"
            ]
          },
          "metadata": {
            "tags": []
          },
          "execution_count": 7
        }
      ]
    },
    {
      "cell_type": "markdown",
      "metadata": {
        "id": "tIGsH9MeMhSz"
      },
      "source": [
        "##**Average Customer Experience**\n",
        "The average user scenario would start off with the user downloading our app, or accessing our website, so they can start an order. They will have access to all of the stores that we offer deliveries from, as well as the items that are offered for purchase. The user will select all of the items that they would like delivered, and enter in their address and their payment information, which would be their credit or debit card information. Then the customer would then set a time for the requested delivery, and wait until the driver arrives. Then once the driver arrives, they will be given their items, and if the user wants, they can tip the driver. The user then can enjoy their items, and order again when they please. \n"
      ]
    },
    {
      "cell_type": "markdown",
      "metadata": {
        "id": "zn1QEeiTNQsC"
      },
      "source": [
        "## **3 Queries**\n",
        "-  For our first query, we used the SQL command, COUNT,  to find how many drivers drive white cars. This question is useful because it helps customers identify the cars that the drivers are using. It can also make sure that the driver is using the correct car that they registered. \n"
      ]
    },
    {
      "cell_type": "code",
      "metadata": {
        "colab": {
          "base_uri": "https://localhost:8080/",
          "height": 95
        },
        "id": "bm2dtjQLNcr0",
        "outputId": "a7030599-a42d-4708-c0c0-2140044ec6fb"
      },
      "source": [
        "\t%%sql\n",
        "SELECT COUNT(color) from Car WHERE color = \"white\";"
      ],
      "execution_count": 8,
      "outputs": [
        {
          "output_type": "stream",
          "text": [
            " * sqlite:///petshop.d\n",
            "Done.\n"
          ],
          "name": "stdout"
        },
        {
          "output_type": "execute_result",
          "data": {
            "text/html": [
              "<table>\n",
              "    <thead>\n",
              "        <tr>\n",
              "            <th>COUNT(color)</th>\n",
              "        </tr>\n",
              "    </thead>\n",
              "    <tbody>\n",
              "        <tr>\n",
              "            <td>2</td>\n",
              "        </tr>\n",
              "    </tbody>\n",
              "</table>"
            ],
            "text/plain": [
              "[(2,)]"
            ]
          },
          "metadata": {
            "tags": []
          },
          "execution_count": 8
        }
      ]
    },
    {
      "cell_type": "markdown",
      "metadata": {
        "id": "hYJzoBkPNf01"
      },
      "source": [
        "- Our next query utilizes finding the average cost of items. This is important because it allows the company to know what the average cost a trip could be. By knowing the average cost of a trip, it allows companies to accurately calculate future earning and set up expectations on how much every trip should be making. \n"
      ]
    },
    {
      "cell_type": "code",
      "metadata": {
        "colab": {
          "base_uri": "https://localhost:8080/",
          "height": 95
        },
        "id": "X2W9Wdd-NiAi",
        "outputId": "f8bec6b3-e3d2-44e5-e58c-e95695bed40d"
      },
      "source": [
        "%%sql\n",
        "SELECT AVG(Cost) from Items;"
      ],
      "execution_count": 9,
      "outputs": [
        {
          "output_type": "stream",
          "text": [
            " * sqlite:///petshop.d\n",
            "Done.\n"
          ],
          "name": "stdout"
        },
        {
          "output_type": "execute_result",
          "data": {
            "text/html": [
              "<table>\n",
              "    <thead>\n",
              "        <tr>\n",
              "            <th>AVG(Cost)</th>\n",
              "        </tr>\n",
              "    </thead>\n",
              "    <tbody>\n",
              "        <tr>\n",
              "            <td>35.980000000000004</td>\n",
              "        </tr>\n",
              "    </tbody>\n",
              "</table>"
            ],
            "text/plain": [
              "[(35.980000000000004,)]"
            ]
          },
          "metadata": {
            "tags": []
          },
          "execution_count": 9
        }
      ]
    },
    {
      "cell_type": "markdown",
      "metadata": {
        "id": "xwnr0ovuNkVY"
      },
      "source": [
        "- Our final query is finding payments that have a payment type of “card.” It is important to know which payments use the payment type of a card because the company will be able to know what fraction of the customers are paying with card or cash. This allows the company to motivate their customers to purchase their items with a card rather than cash, so the driver doesn’t have to purchase the items. "
      ]
    },
    {
      "cell_type": "code",
      "metadata": {
        "colab": {
          "base_uri": "https://localhost:8080/",
          "height": 95
        },
        "id": "svKHmSjKNniX",
        "outputId": "3e024d8b-86e5-4f2e-abac-88c460f2d4b7"
      },
      "source": [
        "%%sql\n",
        "SELECT Count(PaymentType) from Payment WHERE PaymentType = \"card\";"
      ],
      "execution_count": 10,
      "outputs": [
        {
          "output_type": "stream",
          "text": [
            " * sqlite:///petshop.d\n",
            "Done.\n"
          ],
          "name": "stdout"
        },
        {
          "output_type": "execute_result",
          "data": {
            "text/html": [
              "<table>\n",
              "    <thead>\n",
              "        <tr>\n",
              "            <th>Count(PaymentType)</th>\n",
              "        </tr>\n",
              "    </thead>\n",
              "    <tbody>\n",
              "        <tr>\n",
              "            <td>3</td>\n",
              "        </tr>\n",
              "    </tbody>\n",
              "</table>"
            ],
            "text/plain": [
              "[(3,)]"
            ]
          },
          "metadata": {
            "tags": []
          },
          "execution_count": 10
        }
      ]
    }
  ]
}