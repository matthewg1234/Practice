{
  "nbformat": 4,
  "nbformat_minor": 0,
  "metadata": {
    "colab": {
      "name": "Copy of Copy of InClassLab1.ipynb",
      "provenance": [],
      "collapsed_sections": [],
      "include_colab_link": true
    },
    "kernelspec": {
      "name": "python3",
      "display_name": "Python 3"
    }
  },
  "cells": [
    {
      "cell_type": "markdown",
      "metadata": {
        "id": "view-in-github",
        "colab_type": "text"
      },
      "source": [
        "<a href=\"https://colab.research.google.com/github/matthewg1234/Practice/blob/master/Copy_of_Copy_of_InClassLab1.ipynb\" target=\"_parent\"><img src=\"https://colab.research.google.com/assets/colab-badge.svg\" alt=\"Open In Colab\"/></a>"
      ]
    },
    {
      "cell_type": "markdown",
      "metadata": {
        "id": "SutiPeblMPi3",
        "colab_type": "text"
      },
      "source": [
        "First, go to File and Save a Copy to Drive. This will create a copy of this assignment for you to reference later. \n",
        "\n",
        "For this in-class lab, you will need to go to [draw.io](https://app.diagrams.net/). Create a new diagram and select \"Entity Relationship Diagram\".\n",
        "\n",
        "You will NOT be turning in an assignment, this is just to learn more about draw.io and to practice using Google Colab. \n"
      ]
    },
    {
      "cell_type": "markdown",
      "metadata": {
        "id": "6GeJkNNPOJLh",
        "colab_type": "text"
      },
      "source": [
        "Prompt:\n",
        "In draw.io, create an Entity called “Students.” Then add some characteristics of a student using Attributes. Some attributes can include their first name, last name, home town, their PSU ID, and classes. Now, next to that box, make another Entity and label it “Classes.” Yes, we know students take classes, BUT classes have a lot of detail about them. Start listing that information; I’ll give you a hint: IST 210. What you are creating is something called an Entity-Relationship (ER) Diagram. The Entities we’ve created are Students and Classes. Now, draw a line connecting your two boxes, and on this line, we will write “attend.” This line or connection is the relationship part. You can read it like a sentence; “Students attend Classes,” or “Classes are attended by Students.” ER Diagrams are the cornerstone of Database design. You have to learn to be critical and logical in understanding how to capture the most relevant data for your project, and an ER diagram helps this process. \n",
        "\n",
        "Let’s continue this exercise; you have two entities so far (Students and Classes). Create five entities in total, with the project being on Penn State. Also, make sure that you have a relationship connecting your tables. Not all entities have to connect to each other (this rarely happens in database design), but you can’t have a random entity all by itself. We are creating an ER diagram representing Penn State, with two entities called Students and Classes. We wouldn’t have a random entity called “RollerCosters.” Lastly, for each Entity, create 3 Attributes for each. \n",
        "Once you are done, save your ER Diagram in draw.io in GitHub (as a .png file) and append the image to your Google Colab Notebook. \n",
        "\n"
      ]
    },
    {
      "cell_type": "markdown",
      "metadata": {
        "id": "SfIZuQcyPuUz",
        "colab_type": "text"
      },
      "source": [
        "Add the image of the ER Diagram here:\n",
        "\n",
        "![ER Diagram](https://raw.githubusercontent.com/matthewg1234/Practice/master/Testing.png)\n",
        "\n",
        "Again, you are not turning anything in."
      ]
    }
  ]
}