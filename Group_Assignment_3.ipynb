{
  "nbformat": 4,
  "nbformat_minor": 0,
  "metadata": {
    "colab": {
      "name": "Group Assignment 3.ipynb",
      "provenance": [],
      "collapsed_sections": [],
      "include_colab_link": true
    },
    "kernelspec": {
      "name": "python3",
      "display_name": "Python 3"
    }
  },
  "cells": [
    {
      "cell_type": "markdown",
      "metadata": {
        "id": "view-in-github",
        "colab_type": "text"
      },
      "source": [
        "<a href=\"https://colab.research.google.com/github/matthewg1234/Practice/blob/master/Group_Assignment_3.ipynb\" target=\"_parent\"><img src=\"https://colab.research.google.com/assets/colab-badge.svg\" alt=\"Open In Colab\"/></a>"
      ]
    },
    {
      "cell_type": "code",
      "metadata": {
        "id": "9aIoiUM_LpUM",
        "colab": {
          "base_uri": "https://localhost:8080/",
          "height": 35
        },
        "outputId": "8fec8e0c-41b5-44e0-9efb-d3b1d6d26f5a"
      },
      "source": [
        "%load_ext sql\n",
        "%sql sqlite:///petshop.d"
      ],
      "execution_count": null,
      "outputs": [
        {
          "output_type": "execute_result",
          "data": {
            "application/vnd.google.colaboratory.intrinsic+json": {
              "type": "string"
            },
            "text/plain": [
              "'Connected: @petshop.d'"
            ]
          },
          "metadata": {
            "tags": []
          },
          "execution_count": 1
        }
      ]
    },
    {
      "cell_type": "code",
      "metadata": {
        "id": "qr2K0JvfMVv_",
        "colab": {
          "base_uri": "https://localhost:8080/"
        },
        "outputId": "e8030acc-4ba8-443f-94a3-7ba31b28120b"
      },
      "source": [
        "%%sql  \n",
        "DROP TABLE IF EXISTS Address;\n",
        "create table Address (StreetAddress text PRIMARY KEY, City text, State text, Zipcode integer);\n",
        "\n",
        "DROP table IF EXISTS Customer;\n",
        "create table Customer (CustomerID text PRIMARY KEY, FirstName text, LastName text, Address text);\n",
        "\n",
        "DROP table IF EXISTS Items;\n",
        "create table Items (ItemID text PRIMARY KEY, Cost real, StoreName text, Quantity integer);\n",
        "\n",
        "DROP table IF EXISTS Trip;\n",
        "create table Trip (TripID text PRIMARY KEY, Distance integer, Time integer, Gas integer, TransactionID text, CustomerID text, LicenseID text, ItemID text);\n",
        "\n",
        "DROP table IF EXISTS Payment;\n",
        "create table Payment (TransactionID text PRIMARY KEY, PaymentType text, CardNumber integer, Tips integer);\n",
        "\n",
        "DROP table IF EXISTS Driver;\n",
        "create table Driver (LicenseID text PRIMARY KEY, FirstName text, LastName text, Car text, PhoneNumber text);\n",
        "\n",
        "DROP table IF EXISTS Car;\n",
        "create table Car (PlateID text PRIMARY KEY, Model text, Color text, Brand text);"
      ],
      "execution_count": null,
      "outputs": [
        {
          "output_type": "stream",
          "text": [
            " * sqlite:///petshop.d\n",
            "Done.\n",
            "Done.\n",
            "Done.\n",
            "Done.\n",
            "Done.\n",
            "Done.\n",
            "Done.\n",
            "Done.\n",
            "Done.\n",
            "Done.\n",
            "Done.\n",
            "Done.\n",
            "Done.\n",
            "Done.\n"
          ],
          "name": "stdout"
        },
        {
          "output_type": "execute_result",
          "data": {
            "text/plain": [
              "[]"
            ]
          },
          "metadata": {
            "tags": []
          },
          "execution_count": 2
        }
      ]
    },
    {
      "cell_type": "code",
      "metadata": {
        "id": "nAw-C-fod1cP",
        "colab": {
          "base_uri": "https://localhost:8080/"
        },
        "outputId": "eaca5da9-3e43-467d-e3d8-3110fd1b49b5"
      },
      "source": [
        "%%sql\n",
        "insert into Trip values(\"0001\", 20, 10, 2, \"3842\", \"1234\", \"1234678\", \"3849\");\n",
        "insert into Trip values(\"0002\", 10, 5, 1, \"2849\", \"5462\", \"23456789\", \"1569\");\n",
        "insert into Trip values(\"0003\", 25, 13, 4, \"8953\", \"2562\", \"29304718\", \"2483\");\n",
        "insert into Trip values(\"0004\", 15, 8, 3, \"2942\", \"8654\", \"46274829\", \"7531\");\n",
        "insert into Trip values(\"0005\", 15, 7, 3, \"9236\", \"6832\", \"93526374\", \"2584\");\n",
        "\n",
        "insert into Payment values(\"3842\", \"cash\", 0, 5);\n",
        "insert into Payment values(\"2849\", \"card\", 9378837283212834, 5);\n",
        "insert into Payment values(\"8953\", \"card\", 2948126383828348, 5);\n",
        "insert into Payment values(\"2942\", \"cash\", 0, 5);\n",
        "insert into Payment values(\"9236\", \"card\", 2389423787823873, 5);\n",
        "\n",
        "insert into Items values(\"3849\", 3.89, \"Walmart\", 5);\n",
        "insert into Items values(\"1569\", 32.49, \"Target\", 1);\n",
        "insert into Items values(\"2493\", 83.43, \"Sam's Club\", 8);\n",
        "insert into Items values(\"7531\", 5.86, \"Kmart\", 1);\n",
        "insert into Items values(\"2584\", 54.23, \"Costco\", 2);"
      ],
      "execution_count": null,
      "outputs": [
        {
          "output_type": "stream",
          "text": [
            " * sqlite:///petshop.d\n",
            "1 rows affected.\n",
            "1 rows affected.\n",
            "1 rows affected.\n",
            "1 rows affected.\n",
            "1 rows affected.\n",
            "1 rows affected.\n",
            "1 rows affected.\n",
            "1 rows affected.\n",
            "1 rows affected.\n",
            "1 rows affected.\n",
            "1 rows affected.\n",
            "1 rows affected.\n",
            "1 rows affected.\n",
            "1 rows affected.\n",
            "1 rows affected.\n"
          ],
          "name": "stdout"
        },
        {
          "output_type": "execute_result",
          "data": {
            "text/plain": [
              "[]"
            ]
          },
          "metadata": {
            "tags": []
          },
          "execution_count": 3
        }
      ]
    },
    {
      "cell_type": "code",
      "metadata": {
        "id": "uNNe9Jk_esaZ",
        "colab": {
          "base_uri": "https://localhost:8080/"
        },
        "outputId": "bdf33aff-e608-4cc1-f93b-24123d63355d"
      },
      "source": [
        "%%sql\n",
        "insert into Address values('443 NE. Thorne Dr.', 'Grand Island', 'PA', 68801);\n",
        "insert into Address values('9189 Sugar Street', 'Irwin', 'PA', 15642);\n",
        "insert into Address values('53 Lilac St.', 'Whitestone', 'PA', 11357);\n",
        "insert into Address values('49 Peninsula Court','Corpus Christi', 'PA', 78418);\n",
        "insert into Address values('980 South Military St.', 'Bozeman', 'PA', 59715);\n",
        "\n",
        "insert into Customer values('1234', 'Matthew', 'Genova', '443 NE. Thorne Dr. Grand Island PA 68801');\n",
        "insert into Customer values('5462', 'Bridget', 'Doherty', '9189 Sugar Street Irwin PA 15642');\n",
        "insert into Customer values('2562', 'Nate', 'Fedornock','53 Lilac St. Whitestone PA 11357');\n",
        "insert into Customer values ('8654', 'Bill', 'Jobs', '49 Peninsula Court Corpus Christi PA 78418');\n",
        "insert into Customer values ('6832', 'Steve', 'Gates', '980 South Military St. Bozeman PA 59715');\n"
      ],
      "execution_count": null,
      "outputs": [
        {
          "output_type": "stream",
          "text": [
            " * sqlite:///petshop.d\n",
            "1 rows affected.\n",
            "1 rows affected.\n",
            "1 rows affected.\n",
            "1 rows affected.\n",
            "1 rows affected.\n",
            "1 rows affected.\n",
            "1 rows affected.\n",
            "1 rows affected.\n",
            "1 rows affected.\n",
            "1 rows affected.\n"
          ],
          "name": "stdout"
        },
        {
          "output_type": "execute_result",
          "data": {
            "text/plain": [
              "[]"
            ]
          },
          "metadata": {
            "tags": []
          },
          "execution_count": 4
        }
      ]
    },
    {
      "cell_type": "code",
      "metadata": {
        "id": "Zk-y9S2qiaNf",
        "colab": {
          "base_uri": "https://localhost:8080/"
        },
        "outputId": "a3a74bb6-3a84-4354-8b34-84c828398757"
      },
      "source": [
        "%%sql\n",
        "insert into Driver values('1234678', 'John', 'Doe', '8080808 Mustang green Ford','123-456-7890');\n",
        "insert into Driver values('23456789', 'Hannah', 'Kern', '1234567 Town & Country silver Chrysler','234-567-8901');\n",
        "insert into Driver values('29304718', 'Jane', 'Smith', '9999999 Corolla white Toyota', '215-394-0394');\n",
        "insert into Driver values('46274829', 'Brittany', 'Deitch', '3627364 Wrangler white Jeep','267-392-4056');\n",
        "insert into Driver values('93526374', 'Noah', 'Morris', '6626374 Pilot navy Honda','610-382-9808');\n",
        "\n",
        "insert into Car values('8080808', 'Mustang', 'green', 'Ford');\n",
        "insert into Car values('1234567', 'Town & Country', 'silver', 'Chrysler');\n",
        "insert into Car values('9999999', 'Corolla', 'white', 'Toyota');\n",
        "insert into Car values('3627364', 'Wrangler', 'white', 'Jeep');\n",
        "insert into Car values('6626374', 'Pilot', 'navy', 'Honda');\n"
      ],
      "execution_count": null,
      "outputs": [
        {
          "output_type": "stream",
          "text": [
            " * sqlite:///petshop.d\n",
            "1 rows affected.\n",
            "1 rows affected.\n",
            "1 rows affected.\n",
            "1 rows affected.\n",
            "1 rows affected.\n",
            "1 rows affected.\n",
            "1 rows affected.\n",
            "1 rows affected.\n",
            "1 rows affected.\n",
            "1 rows affected.\n"
          ],
          "name": "stdout"
        },
        {
          "output_type": "execute_result",
          "data": {
            "text/plain": [
              "[]"
            ]
          },
          "metadata": {
            "tags": []
          },
          "execution_count": 5
        }
      ]
    },
    {
      "cell_type": "code",
      "metadata": {
        "id": "AO0xixa7pa5o"
      },
      "source": [
        ""
      ],
      "execution_count": null,
      "outputs": []
    },
    {
      "cell_type": "markdown",
      "metadata": {
        "id": "JZPVTdJzl_qs"
      },
      "source": [
        "How many drivers drive white cars."
      ]
    },
    {
      "cell_type": "code",
      "metadata": {
        "colab": {
          "base_uri": "https://localhost:8080/",
          "height": 95
        },
        "id": "xAg6arjdmABq",
        "outputId": "c21d5003-596d-4997-fa49-c7e9fd908f18"
      },
      "source": [
        "%%sql\n",
        "SELECT COUNT(color) from Car WHERE color = \"white\";"
      ],
      "execution_count": null,
      "outputs": [
        {
          "output_type": "stream",
          "text": [
            " * sqlite:///petshop.d\n",
            "Done.\n"
          ],
          "name": "stdout"
        },
        {
          "output_type": "execute_result",
          "data": {
            "text/html": [
              "<table>\n",
              "    <tr>\n",
              "        <th>COUNT(color)</th>\n",
              "    </tr>\n",
              "    <tr>\n",
              "        <td>2</td>\n",
              "    </tr>\n",
              "</table>"
            ],
            "text/plain": [
              "[(2,)]"
            ]
          },
          "metadata": {
            "tags": []
          },
          "execution_count": 6
        }
      ]
    },
    {
      "cell_type": "markdown",
      "metadata": {
        "id": "L8RETbHHqTcj"
      },
      "source": [
        "This question is important, because we want to be able to identify the cars that the drivers are using.  This is helpful to make sure that the driver is using the correct car that they registered.  Our results did match up with our expectations, because we have two cars in the database that are white and the code outputed a count of 2."
      ]
    },
    {
      "cell_type": "markdown",
      "metadata": {
        "id": "cDDEme9CmAzL"
      },
      "source": [
        "Average cost of the items."
      ]
    },
    {
      "cell_type": "code",
      "metadata": {
        "id": "cDRLxTabmA_Z",
        "colab": {
          "base_uri": "https://localhost:8080/",
          "height": 95
        },
        "outputId": "621a5d30-f855-446e-c288-53290a78b977"
      },
      "source": [
        "%%sql\n",
        "SELECT AVG(Cost) from Items;"
      ],
      "execution_count": null,
      "outputs": [
        {
          "output_type": "stream",
          "text": [
            " * sqlite:///petshop.d\n",
            "Done.\n"
          ],
          "name": "stdout"
        },
        {
          "output_type": "execute_result",
          "data": {
            "text/html": [
              "<table>\n",
              "    <tr>\n",
              "        <th>AVG(Cost)</th>\n",
              "    </tr>\n",
              "    <tr>\n",
              "        <td>35.980000000000004</td>\n",
              "    </tr>\n",
              "</table>"
            ],
            "text/plain": [
              "[(35.980000000000004,)]"
            ]
          },
          "metadata": {
            "tags": []
          },
          "execution_count": 7
        }
      ]
    },
    {
      "cell_type": "markdown",
      "metadata": {
        "id": "PJm6nB8JqtDV"
      },
      "source": [
        "This question is important, because it allows the company to know what the average cost of a trip could be.  This allows them to be able to calculate accurate future earnings and can set up expectations for how much every trip should be making.  Our results did match our expectations, because we had 5 values of varying amounts and the average came back correct."
      ]
    },
    {
      "cell_type": "markdown",
      "metadata": {
        "id": "BzBeib9imBJC"
      },
      "source": [
        "Store names that have \"mart\" in them"
      ]
    },
    {
      "cell_type": "code",
      "metadata": {
        "id": "QpFlMNHCmBSK",
        "colab": {
          "base_uri": "https://localhost:8080/",
          "height": 95
        },
        "outputId": "452abca5-e85d-4594-f41a-de8af54c4769"
      },
      "source": [
        "%%sql\n",
        "SELECT Count(PaymentType) from Payment WHERE PaymentType = \"card\";"
      ],
      "execution_count": null,
      "outputs": [
        {
          "output_type": "stream",
          "text": [
            " * sqlite:///petshop.d\n",
            "Done.\n"
          ],
          "name": "stdout"
        },
        {
          "output_type": "execute_result",
          "data": {
            "text/html": [
              "<table>\n",
              "    <tr>\n",
              "        <th>Count(PaymentType)</th>\n",
              "    </tr>\n",
              "    <tr>\n",
              "        <td>3</td>\n",
              "    </tr>\n",
              "</table>"
            ],
            "text/plain": [
              "[(3,)]"
            ]
          },
          "metadata": {
            "tags": []
          },
          "execution_count": 11
        }
      ]
    },
    {
      "cell_type": "markdown",
      "metadata": {
        "id": "dB-hoXvQrm_z"
      },
      "source": [
        "This question is important, because the company will be able to know what fraction of the customers are paying with card or cash.  This allows the company to motivate customers who pay with cash to pay with card instead so the driver doesn't have to buy the items.  Our results did meet our expectations, because we had 3 values for card and a count of 3 was returned."
      ]
    },
    {
      "cell_type": "markdown",
      "metadata": {
        "id": "8cuUbfX7uIO_"
      },
      "source": [
        "![ER Diagram](https://raw.githubusercontent.com/matthewg1234/Practice/master/Group%20Assignment%202.png)"
      ]
    },
    {
      "cell_type": "markdown",
      "metadata": {
        "id": "rdNwgRb3uTn4"
      },
      "source": [
        "We did not make any changes to the ER diagram."
      ]
    }
  ]
}