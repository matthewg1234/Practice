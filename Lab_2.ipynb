{
  "nbformat": 4,
  "nbformat_minor": 0,
  "metadata": {
    "colab": {
      "name": "Lab 2.ipynb",
      "provenance": [],
      "authorship_tag": "ABX9TyNVuap1k5qtoRjyzXX5Yh4F",
      "include_colab_link": true
    },
    "kernelspec": {
      "name": "python3",
      "display_name": "Python 3"
    }
  },
  "cells": [
    {
      "cell_type": "markdown",
      "metadata": {
        "id": "view-in-github",
        "colab_type": "text"
      },
      "source": [
        "<a href=\"https://colab.research.google.com/github/matthewg1234/Practice/blob/master/Lab_2.ipynb\" target=\"_parent\"><img src=\"https://colab.research.google.com/assets/colab-badge.svg\" alt=\"Open In Colab\"/></a>"
      ]
    },
    {
      "cell_type": "markdown",
      "metadata": {
        "id": "5amTZvn9EtwN"
      },
      "source": [
        "![Pet Store Diagram](https://raw.githubusercontent.com/matthewg1234/Practice/master/Lab%202.png)"
      ]
    },
    {
      "cell_type": "markdown",
      "metadata": {
        "id": "yjv8sgVK-nm6"
      },
      "source": [
        "# Description\n",
        "# My pet store diagram consists of 6 tables: Pets, Enclosures, Food, Customer, Adoption, and Loyalty Program. Pets has the primary key, chip number, and has the attributes of pet type, DOB, name, and location. Pets are kept in an Enclosure. Pets are also connected to food because pets eat food. Enclosure has the primary key, Enclosure number, with the attributes of size, location, capacity, and material. Food has the primary key, product number, with the attributes of cost, pet type, and ingredients. Customer has the primary key, social security number, with the attributes of name, address, and phone number. Customer can adopt a pet, purchase food, signs adoption, and uses the loyalty program. Adoption has the primary key, transaction number, with the attributes of chip number, cost, customer name, and food. Pets are assigned a chip number and is required during the adoption process. Loyalty Program has the primary key, customer ID, with the attributes of cost, name, product number, and transaction number. Loyalty program rewards customers during the adoption process and discounts food. "
      ]
    }
  ]
}