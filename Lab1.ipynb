{
  "nbformat": 4,
  "nbformat_minor": 0,
  "metadata": {
    "colab": {
      "name": "Lab1.ipynb",
      "provenance": [],
      "authorship_tag": "ABX9TyMjIY6gVSRxlzFpIOIfB5nR",
      "include_colab_link": true
    },
    "kernelspec": {
      "name": "python3",
      "display_name": "Python 3"
    }
  },
  "cells": [
    {
      "cell_type": "markdown",
      "metadata": {
        "id": "view-in-github",
        "colab_type": "text"
      },
      "source": [
        "<a href=\"https://colab.research.google.com/github/matthewg1234/Practice/blob/master/Lab1.ipynb\" target=\"_parent\"><img src=\"https://colab.research.google.com/assets/colab-badge.svg\" alt=\"Open In Colab\"/></a>"
      ]
    },
    {
      "cell_type": "markdown",
      "metadata": {
        "id": "mRw8nW6HgJCZ",
        "colab_type": "text"
      },
      "source": [
        ""
      ]
    },
    {
      "cell_type": "markdown",
      "metadata": {
        "id": "bSPjuNTfdtzr",
        "colab_type": "text"
      },
      "source": [
        "##Do you like using Jupyter Notebooks?"
      ]
    },
    {
      "cell_type": "markdown",
      "metadata": {
        "id": "vQcmNUeSgtfs",
        "colab_type": "text"
      },
      "source": [
        "this is my answer"
      ]
    },
    {
      "cell_type": "markdown",
      "metadata": {
        "id": "XfWiHWwSgw-S",
        "colab_type": "text"
      },
      "source": [
        "## What do you want to learn more about Jupyter Notebooks?"
      ]
    },
    {
      "cell_type": "markdown",
      "metadata": {
        "id": "F52TOBGMg6Ed",
        "colab_type": "text"
      },
      "source": [
        "this is my answer"
      ]
    },
    {
      "cell_type": "markdown",
      "metadata": {
        "id": "V-oKvCvBg7po",
        "colab_type": "text"
      },
      "source": [
        "![rainbow in state college](https://raw.githubusercontent.com/matthewg1234/Practice/master/Avengers.jpg)"
      ]
    }
  ]
}