{
  "nbformat": 4,
  "nbformat_minor": 0,
  "metadata": {
    "colab": {
      "name": "Lab1.ipynb",
      "provenance": [],
      "include_colab_link": true
    },
    "kernelspec": {
      "name": "python3",
      "display_name": "Python 3"
    }
  },
  "cells": [
    {
      "cell_type": "markdown",
      "metadata": {
        "id": "view-in-github",
        "colab_type": "text"
      },
      "source": [
        "<a href=\"https://colab.research.google.com/github/matthewg1234/Practice/blob/master/Lab1.ipynb\" target=\"_parent\"><img src=\"https://colab.research.google.com/assets/colab-badge.svg\" alt=\"Open In Colab\"/></a>"
      ]
    },
    {
      "cell_type": "markdown",
      "metadata": {
        "id": "mRw8nW6HgJCZ",
        "colab_type": "text"
      },
      "source": [
        ""
      ]
    },
    {
      "cell_type": "markdown",
      "metadata": {
        "id": "bSPjuNTfdtzr",
        "colab_type": "text"
      },
      "source": [
        "##Do you like using Jupyter Notebooks?"
      ]
    },
    {
      "cell_type": "markdown",
      "metadata": {
        "id": "vQcmNUeSgtfs",
        "colab_type": "text"
      },
      "source": [
        "I'm not sure if I like using Jupyter Notebooks or not. It is my first time hearing about this website, but so far I think it is a cool concept."
      ]
    },
    {
      "cell_type": "markdown",
      "metadata": {
        "id": "XfWiHWwSgw-S",
        "colab_type": "text"
      },
      "source": [
        "## What do you want to learn more about Jupyter Notebooks?"
      ]
    },
    {
      "cell_type": "markdown",
      "metadata": {
        "id": "F52TOBGMg6Ed",
        "colab_type": "text"
      },
      "source": [
        "I want to learn more about Google Collab and and Github that we utilize for Jupyter Notebooks. It is my first time using these websites. \n"
      ]
    },
    {
      "cell_type": "markdown",
      "metadata": {
        "id": "V-oKvCvBg7po",
        "colab_type": "text"
      },
      "source": [
        "![The Last Shwarma](https://raw.githubusercontent.com/matthewg1234/Practice/master/Avengers.jpg)"
      ]
    }
  ]
}